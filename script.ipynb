{
 "cells": [
  {
   "cell_type": "code",
   "execution_count": null,
   "metadata": {},
   "outputs": [],
   "source": [
    "%pip install python-dotenv beautifulsoup4.10 selenium"
   ]
  },
  {
   "cell_type": "code",
   "execution_count": null,
   "metadata": {},
   "outputs": [],
   "source": [
    "import time\n",
    "from selenium import webdriver\n",
    "from selenium.webdriver.common.keys import Keys\n",
    "from selenium.webdriver.support import expected_conditions as EC\n",
    "from selenium.webdriver.common.by import By\n",
    "from selenium.webdriver.support.wait import WebDriverWait\n",
    "from dotenv import dotenv_values\n",
    "from bs4 import BeautifulSoup\n",
    "from urllib.parse import urljoin\n",
    "import os"
   ]
  },
  {
   "cell_type": "code",
   "execution_count": null,
   "metadata": {},
   "outputs": [],
   "source": [
    "current_folder = globals()['_dh'][0]\n",
    "filepath = os.path.join(current_folder,'chromedriver.exe')\n",
    "filepath"
   ]
  },
  {
   "cell_type": "code",
   "execution_count": null,
   "metadata": {},
   "outputs": [],
   "source": [
    "config = dotenv_values(\".env\")"
   ]
  },
  {
   "cell_type": "code",
   "execution_count": null,
   "metadata": {},
   "outputs": [],
   "source": [
    "DOMAIN='http://www.facebook.com'\n",
    "SEED_URL='https://m.facebook.com/ondemandacademy/?tsid=0.7139138908850204&source=result' \n",
    "scroll_pause_time = 1 # set your own pause time. \n",
    "break_year='2020'"
   ]
  },
  {
   "cell_type": "markdown",
   "metadata": {},
   "source": [
    "Disable Alerts/Notifications\n",
    "!! Using code by pythonjar of Stackoverflow !!\n",
    "Please visit this thread for more details:\n",
    "https://stackoverflow.com/questions/41400934/handle-notifications-in-python-selenium-chrome-webdriver"
   ]
  },
  {
   "cell_type": "code",
   "execution_count": null,
   "metadata": {},
   "outputs": [],
   "source": [
    "#code by pythonjar\n",
    "chrome_options = webdriver.ChromeOptions()\n",
    "prefs = {\"profile.default_content_setting_values.notifications\" : 2}\n",
    "chrome_options.add_experimental_option(\"prefs\",prefs)"
   ]
  },
  {
   "cell_type": "markdown",
   "metadata": {},
   "source": [
    "Log into personal Facebook account"
   ]
  },
  {
   "cell_type": "code",
   "execution_count": null,
   "metadata": {},
   "outputs": [],
   "source": [
    "#specify the path to chromedriver.exe (download and save on your computer)\n",
    "driver = webdriver.Chrome(filepath, chrome_options=chrome_options)\n",
    "\n",
    "#open the webpage\n",
    "driver.get(DOMAIN)\n",
    "\n",
    "#target username\n",
    "username = WebDriverWait(driver, 10).until(EC.element_to_be_clickable((By.CSS_SELECTOR, \"input[name='email']\")))\n",
    "password = WebDriverWait(driver, 10).until(EC.element_to_be_clickable((By.CSS_SELECTOR, \"input[name='pass']\")))\n",
    "\n",
    "#enter username and password\n",
    "username.clear()\n",
    "username.send_keys(config['USERNAME'])\n",
    "password.clear()\n",
    "password.send_keys(config['PASSWORD'])\n",
    "\n",
    "#target the login button and click it\n",
    "button = WebDriverWait(driver, 2).until(EC.element_to_be_clickable((By.CSS_SELECTOR, \"button[type='submit']\"))).click()\n",
    "time.sleep(2)  # Allow 2 seconds for the web success to login\n",
    "\n",
    "#We are logged in!"
   ]
  },
  {
   "cell_type": "code",
   "execution_count": null,
   "metadata": {},
   "outputs": [],
   "source": [
    "# Web scrapper for infinite scrolling page \n",
    "driver.get(SEED_URL)\n",
    "screen_height = driver.execute_script(\"return window.screen.height;\")   # get the screen height of the web\n",
    "i=1\n",
    "\n",
    "while True:\n",
    "    # scroll one screen height each time\n",
    "    driver.execute_script(\"window.scrollTo(0, {screen_height}*{i});\".format(screen_height=screen_height, i=i))  \n",
    "    time.sleep(scroll_pause_time)\n",
    "    i+=1\n",
    "    # update scroll height each time after scrolled, as the scroll height can change after we scrolled the page\n",
    "    scroll_height = driver.execute_script(\"return document.body.scrollHeight;\")  \n",
    "    soup = BeautifulSoup(driver.page_source,'html.parser')\n",
    "    date_ele = soup.find_all('div',{'data-sigil':'m-feed-voice-subtitle'})[-1]\n",
    "    print(f'page: {i}')\n",
    "    print(date_ele.text)\n",
    "    # Break the loop when post timestamp on break date.\n",
    "    if  break_year in date_ele.text:\n",
    "        break"
   ]
  },
  {
   "cell_type": "code",
   "execution_count": null,
   "metadata": {},
   "outputs": [],
   "source": [
    "soup2 = BeautifulSoup(driver.page_source,'html.parser')\n",
    "soup2.prettify()"
   ]
  },
  {
   "cell_type": "code",
   "execution_count": null,
   "metadata": {},
   "outputs": [],
   "source": [
    "comments_ele = soup2.find_all('a',{'data-ft':'{\"tn\":\"S\"}'})\n",
    "comments_ele"
   ]
  },
  {
   "cell_type": "code",
   "execution_count": null,
   "metadata": {},
   "outputs": [],
   "source": [
    "post_link = [urljoin(SEED_URL,ele['href']) for ele in comments_ele]\n",
    "post_link"
   ]
  },
  {
   "cell_type": "code",
   "execution_count": null,
   "metadata": {},
   "outputs": [],
   "source": [
    "f = open(\"post_link.txt\", \"w\")\n",
    "f.write(\"\\n\".join(post_link))\n",
    "f.close()"
   ]
  },
  {
   "cell_type": "code",
   "execution_count": null,
   "metadata": {},
   "outputs": [],
   "source": [
    "import codecs"
   ]
  },
  {
   "cell_type": "code",
   "execution_count": null,
   "metadata": {},
   "outputs": [],
   "source": [
    "all_posts = []\n",
    "for link in post_link:\n",
    "    post = []\n",
    "    driver.get(link)\n",
    "    time.sleep(1)\n",
    "    soup3 = BeautifulSoup(driver.page_source, \"html.parser\")\n",
    "    date = soup3.find(\"abbr\")\n",
    "    post.append(date.text)\n",
    "    content = soup3.find(\"div\",{'data-ft':'{\"tn\":\"*s\"}'})\n",
    "    if(content):\n",
    "        post.append(content.text.replace('\\u200d♂️See translation',''))\n",
    "    else: post.append(None)\n",
    "    react = soup3.find('div',{'class':\"_1g06\"})\n",
    "    if(react):\n",
    "        post.append(react.text)\n",
    "    else: post.append(None)\n",
    "    shares = soup3.find('span',{'data-sigil':\"feed-ufi-sharers\"})\n",
    "    if(shares):\n",
    "        post.append(shares.text.replace(' shares','').replace(' share',''))\n",
    "    else: post.append(None)\n",
    "    comments = soup3.find_all('div',{'class':\"_2b06\"})\n",
    "    if(comments):\n",
    "        post_comment = []\n",
    "        for comment_box in comments:\n",
    "            post_comment.append([e.text for e in comment_box.findChildren(recursive=False)])\n",
    "        post.append(post_comment)\n",
    "    else: post.append(None)\n",
    "    print(post)\n",
    "    all_posts.append(post)\n",
    "all_posts\n"
   ]
  },
  {
   "cell_type": "code",
   "execution_count": null,
   "metadata": {},
   "outputs": [],
   "source": [
    "%pip install numpy\n",
    "\n"
   ]
  },
  {
   "cell_type": "code",
   "execution_count": null,
   "metadata": {},
   "outputs": [],
   "source": [
    "%pip install pandas"
   ]
  },
  {
   "cell_type": "code",
   "execution_count": null,
   "metadata": {},
   "outputs": [],
   "source": [
    "import numpy as np\n",
    "import pandas as pd"
   ]
  },
  {
   "cell_type": "code",
   "execution_count": null,
   "metadata": {},
   "outputs": [],
   "source": [
    "df = pd.DataFrame(all_posts,columns=[\"Date\",\"content\",\"likes\",\"shares\",\"comment\"])\n",
    "print(df)"
   ]
  },
  {
   "cell_type": "code",
   "execution_count": null,
   "metadata": {},
   "outputs": [],
   "source": [
    "df.to_csv('sample.csv',encoding='utf-8')"
   ]
  }
 ],
 "metadata": {
  "interpreter": {
   "hash": "aee8b7b246df8f9039afb4144a1f6fd8d2ca17a180786b69acc140d282b71a49"
  },
  "kernelspec": {
   "display_name": "Python 3.9.7 64-bit",
   "language": "python",
   "name": "python3"
  },
  "language_info": {
   "codemirror_mode": {
    "name": "ipython",
    "version": 3
   },
   "file_extension": ".py",
   "mimetype": "text/x-python",
   "name": "python",
   "nbconvert_exporter": "python",
   "pygments_lexer": "ipython3",
   "version": "3.10.1"
  },
  "orig_nbformat": 4
 },
 "nbformat": 4,
 "nbformat_minor": 2
}
